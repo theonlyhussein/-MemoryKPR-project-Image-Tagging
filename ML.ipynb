{
 "cells": [
  {
   "cell_type": "code",
<<<<<<< HEAD
   "execution_count": 1,
   "id": "7565eb9f-677f-409e-ae8d-7c86869795b1",
   "metadata": {},
   "outputs": [
    {
     "name": "stdout",
     "output_type": "stream",
     "text": [
      "hello world\n"
     ]
    }
   ],
   "source": [
    "print('hello world')\n"
   ]
=======
   "execution_count": null,
   "id": "4591d639-35f4-400c-8463-4c7721433cda",
   "metadata": {},
   "outputs": [],
   "source": []
>>>>>>> 0ea814656bf3156dd52c12fb3ff3db62e7744b03
  }
 ],
 "metadata": {
  "kernelspec": {
   "display_name": "Python 3 (ipykernel)",
   "language": "python",
   "name": "python3"
  },
  "language_info": {
   "codemirror_mode": {
    "name": "ipython",
    "version": 3
   },
   "file_extension": ".py",
   "mimetype": "text/x-python",
   "name": "python",
   "nbconvert_exporter": "python",
   "pygments_lexer": "ipython3",
<<<<<<< HEAD
   "version": "3.12.2"
=======
   "version": "3.12.0"
>>>>>>> 0ea814656bf3156dd52c12fb3ff3db62e7744b03
  }
 },
 "nbformat": 4,
 "nbformat_minor": 5
}
